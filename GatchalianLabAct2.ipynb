{
  "nbformat": 4,
  "nbformat_minor": 0,
  "metadata": {
    "colab": {
      "name": "Untitled0.ipynb",
      "provenance": [],
      "collapsed_sections": []
    },
    "kernelspec": {
      "name": "python3",
      "display_name": "Python 3"
    }
  },
  "cells": [
    {
      "cell_type": "code",
      "metadata": {
        "id": "ug93xSI8VzoI",
        "colab": {
          "base_uri": "https://localhost:8080/"
        },
        "outputId": "71ca6750-a684-46c1-a821-a52779e26f34"
      },
      "source": [
        "import numpy as np\r\n",
        "import matplotlib.pyplot as plt\r\n",
        "\r\n",
        "v1 = np.array([2,4,])\r\n",
        "v2 = np.array([3,5])\r\n",
        "v3 = np.array([1,6])\r\n",
        "v4 = np.array([5,8])\r\n",
        "v5 = np.array([7,9])\r\n",
        "\r\n",
        "#np.linalg.norm()\r\n",
        "vtotal = v1 + v2 + v3 + v4 + v5\r\n",
        "vtotal\r\n",
        "np.linalg.norm(vtotal)\r\n",
        "np.sqrt(np.sum(np.square(vtotal)))\r\n",
        "\r\n"
      ],
      "execution_count": 51,
      "outputs": [
        {
          "output_type": "execute_result",
          "data": {
            "text/plain": [
              "36.71511950137164"
            ]
          },
          "metadata": {
            "tags": []
          },
          "execution_count": 51
        }
      ]
    },
    {
      "cell_type": "code",
      "metadata": {
        "colab": {
          "base_uri": "https://localhost:8080/"
        },
        "id": "HXnsvSdNyuBW",
        "outputId": "c5e35479-8fc1-4fe6-d991-521c080d6e3e"
      },
      "source": [
        "import numpy as np\r\n",
        "import matplotlib.pyplot as plt\r\n",
        "\r\n",
        "v1 = np.array([2,4,])\r\n",
        "v2 = np.array([3,5])\r\n",
        "v3 = np.array([1,6])\r\n",
        "v4 = np.array([5,8])\r\n",
        "v5 = np.array([7,9])\r\n",
        "\r\n",
        "#np.linalg.norm()\r\n",
        "vtotal = v1 + v2 + v3 + v4 + v5\r\n",
        "vtotal"
      ],
      "execution_count": 52,
      "outputs": [
        {
          "output_type": "execute_result",
          "data": {
            "text/plain": [
              "array([18, 32])"
            ]
          },
          "metadata": {
            "tags": []
          },
          "execution_count": 52
        }
      ]
    },
    {
      "cell_type": "code",
      "metadata": {
        "id": "jMdrADkjyDeU"
      },
      "source": [
        "import numpy as np\r\n",
        "import matplotlib.pyplot as plt\r\n",
        "\r\n",
        "v1 = np.array([2,4,])\r\n",
        "v2 = np.array([3,5])\r\n",
        "v3 = np.array([1,6])\r\n",
        "v4 = np.array([5,8])\r\n",
        "v5 = np.array([7,9])"
      ],
      "execution_count": 49,
      "outputs": []
    },
    {
      "cell_type": "code",
      "metadata": {
        "colab": {
          "base_uri": "https://localhost:8080/"
        },
        "id": "hm7YVgh1xlkV",
        "outputId": "345bdd0f-00dd-4b00-96bd-663854cdc330"
      },
      "source": [
        "#np.linalg.norm()\r\n",
        "vtotal = v1 + v2 + v3 + v4 + v5\r\n",
        "vtotal\r\n",
        "np.linalg.norm(vtotal)\r\n",
        "np.sqrt(np.sum(np.square(vtotal)))"
      ],
      "execution_count": 47,
      "outputs": [
        {
          "output_type": "execute_result",
          "data": {
            "text/plain": [
              "36.71511950137164"
            ]
          },
          "metadata": {
            "tags": []
          },
          "execution_count": 47
        }
      ]
    },
    {
      "cell_type": "code",
      "metadata": {
        "colab": {
          "base_uri": "https://localhost:8080/"
        },
        "id": "_uGyDDS7y6am",
        "outputId": "172cc329-f5bf-416f-c262-b5e9599f2ae9"
      },
      "source": [
        "#np.linalg.norm()\r\n",
        "vtotal = v1 - v2 - v3 - v4 - v5\r\n",
        "vtotal\r\n",
        "np.linalg.norm(vtotal)"
      ],
      "execution_count": 53,
      "outputs": [
        {
          "output_type": "execute_result",
          "data": {
            "text/plain": [
              "27.784887978899608"
            ]
          },
          "metadata": {
            "tags": []
          },
          "execution_count": 53
        }
      ]
    },
    {
      "cell_type": "code",
      "metadata": {
        "colab": {
          "base_uri": "https://localhost:8080/"
        },
        "id": "xposo4u8zDRQ",
        "outputId": "b20194c6-bfec-41f1-a3bb-91ba8d4fc89e"
      },
      "source": [
        "#np.linalg.norm()\r\n",
        "vtotal = v1 * v2 * v3 * v4 * v5\r\n",
        "vtotal\r\n",
        "np.linalg.norm(vtotal)"
      ],
      "execution_count": 54,
      "outputs": [
        {
          "output_type": "execute_result",
          "data": {
            "text/plain": [
              "8642.551706527418"
            ]
          },
          "metadata": {
            "tags": []
          },
          "execution_count": 54
        }
      ]
    },
    {
      "cell_type": "code",
      "metadata": {
        "colab": {
          "base_uri": "https://localhost:8080/"
        },
        "id": "gMO5nnKEzJkb",
        "outputId": "5630c4c6-4c4e-4880-a8e4-1f4cfd101d9a"
      },
      "source": [
        "#np.linalg.norm()\r\n",
        "vtotal = v1 / v2 / v3 / v4 / v5\r\n",
        "vtotal\r\n",
        "np.linalg.norm(vtotal)"
      ],
      "execution_count": 55,
      "outputs": [
        {
          "output_type": "execute_result",
          "data": {
            "text/plain": [
              "0.0191374279009596"
            ]
          },
          "metadata": {
            "tags": []
          },
          "execution_count": 55
        }
      ]
    },
    {
      "cell_type": "code",
      "metadata": {
        "colab": {
          "base_uri": "https://localhost:8080/",
          "height": 335
        },
        "id": "bcpfQxy_fs8y",
        "outputId": "cecac053-79f1-41c1-f6e3-805eb67c113e"
      },
      "source": [
        "L1 = v1+v2\r\n",
        "L2 = v4-v3\r\n",
        "L3 = v4/v4\r\n",
        "\r\n",
        "print(L1)\r\n",
        "print(L2)\r\n",
        "print(L3)\r\n",
        "\r\n",
        "plt.xlim(-10,10)\r\n",
        "plt.ylim(-10,10)\r\n",
        "plt.axhline(y=0, color = 'blue')\r\n",
        "plt.axvline(x=0, color = 'blue')\r\n",
        "plt.xlabel(\"Y\")\r\n",
        "plt.xlabel(\"X\")\r\n",
        "\r\n",
        "plt.quiver(0,0, L1[0], L1[1], angles =  'xy', scale_units =  'xy' , scale = 1, color = 'Red')\r\n",
        "plt.quiver(0,0, L2[0], L2[-1], angles =  'xy', scale_units =  'xy' , scale = 1, color = 'Red')\r\n",
        "plt.quiver(0,0, L3[0], L3[0], angles =  'xy', scale_units =  'xy' , scale = 1, color = 'Red')\r\n",
        "\r\n",
        "\r\n",
        "\r\n",
        "\r\n",
        "\r\n",
        "\r\n",
        "\r\n",
        "\r\n",
        "plt.grid()\r\n",
        "plt.show()"
      ],
      "execution_count": 40,
      "outputs": [
        {
          "output_type": "stream",
          "text": [
            "[5 9]\n",
            "[4 2]\n",
            "[1. 1.]\n"
          ],
          "name": "stdout"
        },
        {
          "output_type": "display_data",
          "data": {
            "image/png": "[encoded data removed]",
            "text/plain": [
              "<Figure size 432x288 with 1 Axes>"
            ]
          },
          "metadata": {
            "tags": [],
            "needs_background": "light"
          }
        }
      ]
    }
  ]
}